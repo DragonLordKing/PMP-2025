{
 "cells": [
  {
   "metadata": {},
   "cell_type": "markdown",
   "source": [
    "## Exercise 1\n",
    "\n",
    "a) identify the independencies, it does so by using local_independencies and also does it for the global."
   ],
   "id": "77259c5c356b0319"
  },
  {
   "metadata": {
    "ExecuteTime": {
     "end_time": "2025-10-15T12:36:45.563006Z",
     "start_time": "2025-10-15T12:36:45.554432Z"
    }
   },
   "cell_type": "code",
   "source": [
    "from pgmpy.models import DiscreteBayesianNetwork\n",
    "from pgmpy.factors.discrete import TabularCPD\n",
    "from pgmpy.inference import VariableElimination\n",
    "\n",
    "m = DiscreteBayesianNetwork([(\"S\",\"O\"), (\"S\",\"L\"), (\"S\",\"M\"), (\"L\",\"M\")])\n",
    "\n",
    "print(\"Local(O):\", m.local_independencies(\"O\"))\n",
    "print(\"Local(L):\", m.local_independencies(\"L\"))\n",
    "print(\"Local(M):\", m.local_independencies(\"M\"))\n",
    "\n",
    "print(\"\\n\", m.get_independencies())"
   ],
   "id": "23aa1ce0ddcd01a9",
   "outputs": [
    {
     "name": "stdout",
     "output_type": "stream",
     "text": [
      "Local(O): (O ⟂ L, M | S)\n",
      "Local(L): (L ⟂ O | S)\n",
      "Local(M): (M ⟂ O | L, S)\n",
      "\n",
      " (L ⟂ O | S)\n",
      "(M ⟂ O | S)\n"
     ]
    }
   ],
   "execution_count": 106
  },
  {
   "metadata": {},
   "cell_type": "markdown",
   "source": "b) Determine how the bayesian network classifies emails based on the attributes O, L, M (It basically takes their probabilities of being spam depending on which is present, in my nested for i check for all possibilities, as if there is an offer and a long message, usually they are trying to convince you of a scam, so therefore is seen as \"spam\" and using our probabilities, if there is an offer and a long message it is spam, if it is an offer and a link it is probably spam, and if all are there it is a guarentee that it will be spam)",
   "id": "3dc29a86b1e5e96b"
  },
  {
   "metadata": {
    "ExecuteTime": {
     "end_time": "2025-10-15T12:36:45.613462Z",
     "start_time": "2025-10-15T12:36:45.603202Z"
    }
   },
   "cell_type": "code",
   "source": [
    "cpd_S = TabularCPD(\"S\", 2, [[0.6],[0.4]])\n",
    "cpd_O = TabularCPD(\"O\", 2, [[0.9, 0.3],[0.1, 0.7]], evidence=[\"S\"], evidence_card=[2])\n",
    "cpd_L = TabularCPD(\"L\", 2, [[0.7, 0.2],[0.3, 0.8]], evidence=[\"S\"], evidence_card=[2])\n",
    "cpd_M = TabularCPD(\"M\", 2, [[0.8, 0.4, 0.5, 0.1],[0.2, 0.6, 0.5, 0.9]], evidence=[\"S\",\"L\"], evidence_card=[2,2])\n",
    "\n",
    "m.add_cpds(cpd_S, cpd_O, cpd_L, cpd_M)\n",
    "\n",
    "infer = VariableElimination(m)\n",
    "for O in (0,1):\n",
    "    for L in (0,1):\n",
    "        for M in (0,1):\n",
    "            p_spam = float(infer.query([\"S\"], evidence={\"O\":O,\"L\":L,\"M\":M}).values[1])\n",
    "            print(f\"O={O} L={L} M={M} -> P(S=1|...)={p_spam:.6f} => {'Spam' if p_spam>0.5 else 'Not spam'}\")\n"
   ],
   "id": "e7b86226d269957a",
   "outputs": [
    {
     "name": "stdout",
     "output_type": "stream",
     "text": [
      "O=0 L=0 M=0 -> P(S=1|...)=0.038168 => Not spam\n",
      "O=0 L=0 M=1 -> P(S=1|...)=0.136986 => Not spam\n",
      "O=0 L=1 M=0 -> P(S=1|...)=0.129032 => Not spam\n",
      "O=0 L=1 M=1 -> P(S=1|...)=0.470588 => Not spam\n",
      "O=1 L=0 M=0 -> P(S=1|...)=0.454545 => Not spam\n",
      "O=1 L=0 M=1 -> P(S=1|...)=0.769231 => Spam\n",
      "O=1 L=1 M=0 -> P(S=1|...)=0.756757 => Spam\n",
      "O=1 L=1 M=1 -> P(S=1|...)=0.949153 => Spam\n"
     ]
    }
   ],
   "execution_count": 107
  },
  {
   "metadata": {},
   "cell_type": "markdown",
   "source": [
    "Exercise 2\n",
    "\n",
    "Solving exercise 1.b from lab 2 using BN (It gets the exact number-ish, to the exact probability of drawing a red)"
   ],
   "id": "9caea2c72eb3c9ae"
  },
  {
   "metadata": {
    "collapsed": true,
    "ExecuteTime": {
     "end_time": "2025-10-15T12:36:45.641546Z",
     "start_time": "2025-10-15T12:36:45.635569Z"
    }
   },
   "cell_type": "code",
   "source": [
    "model = DiscreteBayesianNetwork([(\"D\", \"C\")])\n",
    "\n",
    "cpd_D = TabularCPD(\"D\", 3, [[1/2], [1/6], [1/3]])\n",
    "cpd_C_given_D = TabularCPD(\n",
    "    \"C\", 3,\n",
    "    [[0.3, 0.4, 0.3],   # C=red\n",
    "     [0.4, 0.4, 0.5],   # C=blue\n",
    "     [0.3, 0.2, 0.2]],  # C=black\n",
    "    evidence=[\"D\"], evidence_card=[3]\n",
    ")\n",
    "\n",
    "model.add_cpds(cpd_D, cpd_C_given_D)\n",
    "\n",
    "p_red = float(VariableElimination(model).query([\"C\"]).values[0])\n",
    "print(f\"{p_red:.6f}\")\n"
   ],
   "id": "e1c590d23d1d7af2",
   "outputs": [
    {
     "name": "stdout",
     "output_type": "stream",
     "text": [
      "0.316667\n"
     ]
    }
   ],
   "execution_count": 108
  },
  {
   "metadata": {},
   "cell_type": "markdown",
   "source": [
    "## Exercise 3\n",
    "\n",
    "1) Estimate which of the 2 players has the higher chance of winning by simulating the game 10000 times (By simulating it 10000 times and with 5 different trials, P1 has a estimate win rate of between 56% to 58.5%~, while P0 has a win rate of 4"
   ],
   "id": "3ffe6c64c2b5b745"
  },
  {
   "metadata": {
    "ExecuteTime": {
     "end_time": "2025-10-15T12:36:45.681441Z",
     "start_time": "2025-10-15T12:36:45.654534Z"
    }
   },
   "cell_type": "code",
   "source": [
    "import random, math\n",
    "N = 10_000\n",
    "wins = [0, 0]\n",
    "for _ in range(N):\n",
    "    S = random.randint(0,1)\n",
    "    n = random.randint(1,6)\n",
    "    other = 1 - S\n",
    "    p = 4/7 if other==1 else 0.5\n",
    "    m = sum(random.random() < p for _ in range(2*n))\n",
    "    winner = S if n >= m else other\n",
    "    wins[winner] += 1\n",
    "print(\"Sim win rates  P0≈\", wins[0]/N, \" P1≈\", wins[1]/N)"
   ],
   "id": "5d6f12318630005c",
   "outputs": [
    {
     "name": "stdout",
     "output_type": "stream",
     "text": [
      "Sim win rates  P0≈ 0.4288  P1≈ 0.5712\n"
     ]
    }
   ],
   "execution_count": 109
  },
  {
   "metadata": {},
   "cell_type": "markdown",
   "source": "2. Define a bayesian network that displays the context above",
   "id": "447daa5a124174bd"
  },
  {
   "metadata": {
    "ExecuteTime": {
     "end_time": "2025-10-15T12:37:26.428427Z",
     "start_time": "2025-10-15T12:37:26.417356Z"
    }
   },
   "cell_type": "code",
   "source": [
    "bn = DiscreteBayesianNetwork([(\"S\",\"M\"),(\"N\",\"M\")])\n",
    "\n",
    "cpd_S = TabularCPD(\"S\", 2, [[0.5],[0.5]])\n",
    "cpd_N = TabularCPD(\"N\", 6, [[1/6],[1/6],[1/6],[1/6],[1/6],[1/6]])\n",
    "\n",
    "def binom_col(n, p):\n",
    "    col = [0.0]*13\n",
    "    for k in range(2*n + 1):\n",
    "        col[k] = math.comb(2*n, k) * (p**k) * ((1-p)**(2*n-k))\n",
    "    return col\n",
    "\n",
    "cols = []\n",
    "for s in (0,1):\n",
    "    p = 4/7 if s==0 else 0.5\n",
    "    for n in range(1,7):\n",
    "        cols.append(binom_col(n, p))\n",
    "\n",
    "cpd_M = TabularCPD(\"M\", 13, list(map(list, zip(*cols))), evidence=[\"S\",\"N\"], evidence_card=[2,6])\n",
    "\n",
    "bn.add_cpds(cpd_S, cpd_N, cpd_M)\n",
    "infer = VariableElimination(bn)"
   ],
   "id": "86c1ab23d4235071",
   "outputs": [],
   "execution_count": 111
  }
 ],
 "metadata": {
  "kernelspec": {
   "display_name": "Python 3",
   "language": "python",
   "name": "python3"
  },
  "language_info": {
   "codemirror_mode": {
    "name": "ipython",
    "version": 2
   },
   "file_extension": ".py",
   "mimetype": "text/x-python",
   "name": "python",
   "nbconvert_exporter": "python",
   "pygments_lexer": "ipython2",
   "version": "2.7.6"
  }
 },
 "nbformat": 4,
 "nbformat_minor": 5
}
