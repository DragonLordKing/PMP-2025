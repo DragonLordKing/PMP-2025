{
 "cells": [
  {
   "metadata": {},
   "cell_type": "markdown",
   "source": "#1 Imports & Parameters",
   "id": "553b5a4c78e8ac49"
  },
  {
   "metadata": {
    "ExecuteTime": {
     "end_time": "2025-10-08T11:27:09.224416Z",
     "start_time": "2025-10-08T11:27:09.220230Z"
    }
   },
   "cell_type": "code",
   "source": [
    "import pymc as pm\n",
    "import numpy as np\n",
    "import matplotlib.pyplot as plt\n",
    "import arviz as az\n",
    "\n",
    "N = 200_000\n",
    "rng = np.random.default_rng(42)"
   ],
   "id": "df0375f1705baae3",
   "outputs": [],
   "execution_count": 7
  },
  {
   "metadata": {},
   "cell_type": "markdown",
   "source": [
    "We start with an urn containing:\n",
    "- 3 red balls\n",
    "- 4 blue balls\n",
    "- 2 black balls\n",
    "\n",
    "We then roll a fair dice ONCE:\n",
    "if the result is:\n",
    "- a prime number; then we add a black ball\n",
    "- is 6; then we add a red ball\n",
    "- is 1 or 4; then we add a blue ball\n",
    "\n",
    "The next cell will run a vectorized simulation of the amount of independent trials (N) and stores the rolls, p_red (Probability of red each outcome) draw_red (if the ball was red or not)"
   ],
   "id": "17a1a3927206d17f"
  },
  {
   "metadata": {
    "ExecuteTime": {
     "end_time": "2025-10-08T11:27:24.550587Z",
     "start_time": "2025-10-08T11:27:24.532547Z"
    }
   },
   "cell_type": "code",
   "source": [
    "rolls = rng.integers(1, 7, size=N)\n",
    "\n",
    "p_red = np.where(\n",
    "    np.isin(rolls, [2, 3, 5]), 3/10,\n",
    "    np.where(rolls == 6,        4/10, 3/10)\n",
    ")\n",
    "\n",
    "draw_red = rng.random(N) < p_red\n",
    "\n",
    "draw_red[:10], p_red[:10], rolls[:10]\n"
   ],
   "id": "45a9e3ef058fe615",
   "outputs": [
    {
     "data": {
      "text/plain": [
       "(array([False,  True, False,  True, False,  True, False, False,  True,\n",
       "        False]),\n",
       " array([0.3, 0.3, 0.3, 0.3, 0.3, 0.3, 0.3, 0.3, 0.3, 0.3]),\n",
       " array([4, 4, 1, 3, 3, 5, 2, 5, 5, 2]))"
      ]
     },
     "execution_count": 17,
     "metadata": {},
     "output_type": "execute_result"
    }
   ],
   "execution_count": 17
  },
  {
   "metadata": {},
   "cell_type": "markdown",
   "source": [
    "**Estimating the probability of red using the simulation**\n",
    "\n",
    "The monte carolo estimate is the sample mean of the red indicator, in which we also report a 95% normal-approximation confidence interval"
   ],
   "id": "a1b7b8e539bada0c"
  },
  {
   "metadata": {
    "ExecuteTime": {
     "end_time": "2025-10-08T11:30:21.346240Z",
     "start_time": "2025-10-08T11:30:21.234556Z"
    }
   },
   "cell_type": "code",
   "source": [
    "p_hat = draw_red.mean()\n",
    "\n",
    "se = np.sqrt(p_hat * (1 - p_hat) / N)\n",
    "ci = (p_hat - 1.96 * se, p_hat + 1.96 * se)\n",
    "\n",
    "print(f\"Monte Carlo estimate P(red) = {p_hat:.6f}\")\n",
    "print(f\"95% CI ≈ ({ci[0]:.6f}, {ci[1]:.6f})\")\n",
    "\n",
    "running = np.cumsum(draw_red) / (np.arange(N) + 1)\n",
    "plt.figure(figsize=(6,3))\n",
    "plt.plot(running, lw=1)\n",
    "plt.xlabel(\"Trials\")\n",
    "plt.ylabel(\"Estimated P(red)\")\n",
    "plt.title(\"Running Monte Carlo Estimate\")\n",
    "plt.show()\n"
   ],
   "id": "5ea884b4a979f300",
   "outputs": [
    {
     "name": "stdout",
     "output_type": "stream",
     "text": [
      "Monte Carlo estimate P(red) = 0.318525\n",
      "95% CI ≈ (0.316483, 0.320567)\n"
     ]
    },
    {
     "data": {
      "text/plain": [
       "<Figure size 600x300 with 1 Axes>"
      ],
      "image/png": "[encoded data removed]"
     },
     "metadata": {},
     "output_type": "display_data",
     "jetTransient": {
      "display_id": null
     }
    }
   ],
   "execution_count": 20
  },
  {
   "metadata": {},
   "cell_type": "markdown",
   "source": [
    "We condition the die on the outcomes:\n",
    " - P(prime) = 3/6, P(red|prime) = 3/10\n",
    " - P(6) = 1/6, P(red|6) = 4/10\n",
    " - P(other) = 2/6, P(red|other) = 3/10 So\n",
    "$$\n",
    "\\mathbb{P}(\\text{red})\n",
    "= \\mathbb{P}(\\text{prime})\\,\\mathbb{P}(\\text{red}\\mid\\text{prime})\n",
    "+ \\mathbb{P}(6)\\,\\mathbb{P}(\\text{red}\\mid 6)\n",
    "+ \\mathbb{P}(\\text{other})\\,\\mathbb{P}(\\text{red}\\mid\\text{other})\n",
    "= \\frac{3}{6}\\cdot\\frac{3}{10}\n",
    "+ \\frac{1}{6}\\cdot\\frac{4}{10}\n",
    "+ \\frac{2}{6}\\cdot\\frac{3}{10}\n",
    "= \\frac{19}{60} \\approx 0.316\\overline{6}.\n",
    "$$\n",
    "And we compare this exact value to the simulation estimate from the previos part."
   ],
   "id": "137a573c328ba85f"
  },
  {
   "metadata": {
    "ExecuteTime": {
     "end_time": "2025-10-08T11:40:09.994739Z",
     "start_time": "2025-10-08T11:40:09.991462Z"
    }
   },
   "cell_type": "code",
   "outputs": [
    {
     "name": "stdout",
     "output_type": "stream",
     "text": [
      "Theoretical P(red) = 0.316666666667  (= 19/60)\n",
      "Absolute error |p_hat - p_theory| = 0.001858\n"
     ]
    }
   ],
   "execution_count": 23,
   "source": [
    "p_theory = (3/6)*(3/10) + (1/6)*(4/10) + (2/6)*(3/10)\n",
    "print(f\"Theoretical P(red) = {p_theory:.12f}  (= 19/60)\")\n",
    "\n",
    "abs_err = abs(p_hat - p_theory)\n",
    "print(f\"Absolute error |p_hat - p_theory| = {abs_err:.6f}\")"
   ],
   "id": "2d7903def6a0cbc7"
  }
 ],
 "metadata": {
  "kernelspec": {
   "display_name": "Python 3 (ipykernel)",
   "name": "python3",
   "language": "python"
  },
  "language_info": {
   "name": ""
  }
 },
 "nbformat": 4,
 "nbformat_minor": 5
}
